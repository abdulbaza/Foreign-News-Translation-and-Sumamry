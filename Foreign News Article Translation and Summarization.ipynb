{
 "cells": [
  {
   "cell_type": "code",
   "execution_count": 1,
   "id": "75d6c36b",
   "metadata": {},
   "outputs": [],
   "source": [
    "import newspaper\n",
    "from newspaper import Config, Article, Source\n",
    "from transformers import AutoTokenizer, AutoModelForSeq2SeqLM,Seq2SeqTrainingArguments, Seq2SeqTrainer, DataCollatorForSeq2Seq\n",
    "import pandas as pd\n",
    "import numpy as np\n",
    "import torch\n",
    "import torchmetrics\n",
    "import torch.nn as nn\n",
    "from torch.utils.data import Dataset, DataLoader\n",
    "import gradio as gr\n",
    "import random"
   ]
  },
  {
   "cell_type": "code",
   "execution_count": 2,
   "id": "ffad15ff",
   "metadata": {},
   "outputs": [],
   "source": [
    "url = 'http://cn.chinadaily.com.cn/'"
   ]
  },
  {
   "cell_type": "code",
   "execution_count": 3,
   "id": "8f7a8d92",
   "metadata": {},
   "outputs": [],
   "source": [
    "#use newspaper library to scrape foreign news websites"
   ]
  },
  {
   "cell_type": "code",
   "execution_count": 4,
   "id": "106b91e7",
   "metadata": {},
   "outputs": [],
   "source": [
    " def get_category(link,lang):\n",
    "        foreign_paper = newspaper.build(link, language = lang)\n",
    "        for category in foreign_paper.category_urls():\n",
    "            print(category)"
   ]
  },
  {
   "cell_type": "code",
   "execution_count": 5,
   "id": "4fda9511",
   "metadata": {},
   "outputs": [
    {
     "name": "stdout",
     "output_type": "stream",
     "text": [
      "http://cn.chinadaily.com.cn/\n",
      "http://gx.chinadaily.com.cn\n",
      "http://cartoon.chinadaily.com.cn\n",
      "http://column.chinadaily.com.cn\n",
      "https://cn.chinadaily.com.cn\n",
      "https://language.chinadaily.com.cn\n",
      "http://language.chinadaily.com.cn\n",
      "http://cn.chinadaily.com.cn\n",
      "http://kan.chinadaily.com.cn\n",
      "http://fang.chinadaily.com.cn\n",
      "http://caijing.chinadaily.com.cn\n",
      "http://fj.chinadaily.com.cn\n",
      "http://tech.chinadaily.com.cn\n",
      "http://world.chinadaily.com.cn\n",
      "http://pic.chinadaily.com.cn\n",
      "http://fashion.chinadaily.com.cn\n",
      "http://www.chinadaily.com.cn\n",
      "http://cnews.chinadaily.com.cn\n",
      "http://china.chinadaily.com.cn\n",
      "https://www.chinadaily.com.cn\n",
      "http://qiye.chinadaily.com.cn\n",
      "http://tw.chinadaily.com.cn\n"
     ]
    }
   ],
   "source": [
    "get_category(url,'zh')"
   ]
  },
  {
   "cell_type": "code",
   "execution_count": 6,
   "id": "664e8aab",
   "metadata": {},
   "outputs": [],
   "source": [
    "def get_text_title(link, lang):\n",
    "    foreign_paper = newspaper.build(link, language = lang, fetch_images=False, memoize_articles=False)\n",
    "    article = foreign_paper.articles[random.randint(1,10)]\n",
    "    article.download()\n",
    "    article.parse()\n",
    "    return article.text, article.title"
   ]
  },
  {
   "cell_type": "code",
   "execution_count": 7,
   "id": "68bfe3e0",
   "metadata": {},
   "outputs": [
    {
     "name": "stderr",
     "output_type": "stream",
     "text": [
      "Building prefix dict from C:\\Users\\Abdul\\anaconda3\\lib\\site-packages\\jieba\\dict.txt ...\n",
      "Loading model from cache C:\\Users\\Abdul\\AppData\\Local\\Temp\\jieba.cache\n",
      "Loading model cost 0.373002290725708 seconds.\n",
      "Prefix dict has been built succesfully.\n"
     ]
    }
   ],
   "source": [
    "article_text, article_title = get_text_title(url, 'zh')"
   ]
  },
  {
   "cell_type": "code",
   "execution_count": 8,
   "id": "8e9ee170",
   "metadata": {},
   "outputs": [
    {
     "name": "stdout",
     "output_type": "stream",
     "text": [
      "【习近平关心辽宁汛情，要求确保人民群众生命安全】\n",
      "\n",
      "16日下午，习近平总书记在辽宁锦州市考察小凌河和女儿河环境综合整治情况时，听取了辽宁今年防汛救灾情况汇报，要求当地各级党委和政府抓细抓实各项防汛救灾措施，妥善安置受灾群众，确保人民群众生命安全，做好灾后恢复重建规划，帮助受灾群众尽早恢复正常生产生活。\n",
      "\n",
      "【习近平：我们对东北振兴充满信心】\n",
      "\n",
      "16日下午，在辽宁锦州市东湖森林公园调研时，习近平总书记同正在休闲娱乐的市民亲切交流。习近平指出，中国式现代化是全体人民共同富裕的现代化，不只是少数人富裕，而是要全体人民共同富裕、皆大欢喜。党的十八大以来，党中央实施深入推进东北振兴战略，要继续搞好，加快产业结构调整，适应新时代改革发展要求，我们对东北振兴充满信心。\n",
      "\n",
      "（文字：人民日报记者 杜尚泽；图片：新华社记者 姚大伟 燕雁 摄）\n",
      "\n",
      "【责任编辑：舒靓】\n"
     ]
    }
   ],
   "source": [
    "print(article_text)"
   ]
  },
  {
   "cell_type": "code",
   "execution_count": 9,
   "id": "0fcafe99",
   "metadata": {},
   "outputs": [
    {
     "name": "stdout",
     "output_type": "stream",
     "text": [
      "习近平：我们对东北振兴充满信心\n"
     ]
    }
   ],
   "source": [
    "print(article_title)"
   ]
  },
  {
   "cell_type": "code",
   "execution_count": null,
   "id": "4bbf8859",
   "metadata": {},
   "outputs": [],
   "source": [
    "#for translation using the Helsinki NLP pretrained model from Hugging Face trained on the OPUS dataset"
   ]
  },
  {
   "cell_type": "code",
   "execution_count": 10,
   "id": "4649abad",
   "metadata": {},
   "outputs": [],
   "source": [
    "tokenizer = AutoTokenizer.from_pretrained(\"Helsinki-NLP/opus-mt-zh-en\")"
   ]
  },
  {
   "cell_type": "code",
   "execution_count": 11,
   "id": "7a606d4d",
   "metadata": {},
   "outputs": [],
   "source": [
    "model = AutoModelForSeq2SeqLM.from_pretrained(\"Helsinki-NLP/opus-mt-zh-en\")"
   ]
  },
  {
   "cell_type": "code",
   "execution_count": 12,
   "id": "58f6ff17",
   "metadata": {},
   "outputs": [
    {
     "name": "stderr",
     "output_type": "stream",
     "text": [
      "C:\\Users\\Abdul\\anaconda3\\lib\\site-packages\\transformers\\tokenization_utils_base.py:3538: FutureWarning: \n",
      "`prepare_seq2seq_batch` is deprecated and will be removed in version 5 of HuggingFace Transformers. Use the regular\n",
      "`__call__` method to prepare your inputs and the tokenizer under the `as_target_tokenizer` context manager to prepare\n",
      "your targets.\n",
      "\n",
      "Here is a short example:\n",
      "\n",
      "model_inputs = tokenizer(src_texts, ...)\n",
      "with tokenizer.as_target_tokenizer():\n",
      "    labels = tokenizer(tgt_texts, ...)\n",
      "model_inputs[\"labels\"] = labels[\"input_ids\"]\n",
      "\n",
      "See the documentation of your specific tokenizer for more details on the specific arguments to the tokenizer of choice.\n",
      "For a more complete example, see the implementation of `prepare_seq2seq_batch`.\n",
      "\n",
      "  warnings.warn(formatted_warning, FutureWarning)\n"
     ]
    }
   ],
   "source": [
    "tokenized_text = tokenizer.prepare_seq2seq_batch([article_text], return_tensors='pt')"
   ]
  },
  {
   "cell_type": "code",
   "execution_count": 13,
   "id": "87591985",
   "metadata": {},
   "outputs": [],
   "source": [
    "translation = model.generate(**tokenized_text)\n",
    "translated_text = tokenizer.batch_decode(translation, skip_special_tokens=True)[0]"
   ]
  },
  {
   "cell_type": "code",
   "execution_count": 14,
   "id": "506f209b",
   "metadata": {},
   "outputs": [
    {
     "name": "stdout",
     "output_type": "stream",
     "text": [
      "On the afternoon of 16 p.m. Xi Jinping, the Secretary-General of Xi Jinping, when he visited the city of Liaoningjin State for the integrated management of the environment of the River Ling and daughter river, heard a report on Liaoning’s disaster response this year, asking the local party committees and the government to take care of all measures to prevent and respond to the disaster, to ensure the safety of the people, to prepare for the recovery and reconstruction of the disaster, and to help the affected population to return to normal productive life as soon as possible. 16 p.m. Xi Jinping, during research on the East Lake Forest Park in Liaoning Jinzhou, Xi Jinjinzhou, the General Secretary of Xi Jinping shared confidence in the Northeast revitalization.\n"
     ]
    }
   ],
   "source": [
    "print(translated_text)"
   ]
  },
  {
   "cell_type": "code",
   "execution_count": 15,
   "id": "4d7cc288",
   "metadata": {},
   "outputs": [],
   "source": [
    "#for summarization using Google Pegasus from HuggingFace"
   ]
  },
  {
   "cell_type": "code",
   "execution_count": 16,
   "id": "dcc6c6b2",
   "metadata": {},
   "outputs": [],
   "source": [
    "tokenizer_sum = AutoTokenizer.from_pretrained(\"google/pegasus-xsum\")"
   ]
  },
  {
   "cell_type": "code",
   "execution_count": 17,
   "id": "4bc6f8e1",
   "metadata": {},
   "outputs": [],
   "source": [
    "model = AutoModelForSeq2SeqLM.from_pretrained(\"google/pegasus-xsum\")"
   ]
  },
  {
   "cell_type": "code",
   "execution_count": 18,
   "id": "90ec66d1",
   "metadata": {},
   "outputs": [],
   "source": [
    "tran_tokenized_text = tokenizer_sum.prepare_seq2seq_batch([translated_text], return_tensors='pt')"
   ]
  },
  {
   "cell_type": "code",
   "execution_count": 19,
   "id": "e8352e09",
   "metadata": {},
   "outputs": [],
   "source": [
    "summarization = model.generate(**tran_tokenized_text)\n",
    "summarized_text = tokenizer_sum.batch_decode(summarization, skip_special_tokens=True)[0]"
   ]
  },
  {
   "cell_type": "code",
   "execution_count": 20,
   "id": "d78a454a",
   "metadata": {},
   "outputs": [
    {
     "name": "stdout",
     "output_type": "stream",
     "text": [
      "Xi Jinping, the Secretary-General of Xi Jinping, when he visited Liaoning State for the integrated management of the environment of the environment, heard a disaster report on Liaoning’s disaster response this year, asking the local party committees of the government to take care of all measures prevent and respond to the disaster, to\n"
     ]
    }
   ],
   "source": [
    "print(summarized_text)"
   ]
  },
  {
   "cell_type": "code",
   "execution_count": null,
   "id": "82659608",
   "metadata": {},
   "outputs": [],
   "source": []
  }
 ],
 "metadata": {
  "kernelspec": {
   "display_name": "Python 3 (ipykernel)",
   "language": "python",
   "name": "python3"
  },
  "language_info": {
   "codemirror_mode": {
    "name": "ipython",
    "version": 3
   },
   "file_extension": ".py",
   "mimetype": "text/x-python",
   "name": "python",
   "nbconvert_exporter": "python",
   "pygments_lexer": "ipython3",
   "version": "3.9.12"
  }
 },
 "nbformat": 4,
 "nbformat_minor": 5
}
